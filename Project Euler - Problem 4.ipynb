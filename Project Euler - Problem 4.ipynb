{
 "cells": [
  {
   "cell_type": "markdown",
   "id": "585bfde0",
   "metadata": {},
   "source": [
    "A palindromic number reads the same both ways. The largest palindrome made from the product of two 2-digit numbers is 9009 = 91 × 99.\n",
    "\n",
    "Find the largest palindrome made from the product of two 3-digit numbers.\n"
   ]
  },
  {
   "cell_type": "code",
   "execution_count": 67,
   "id": "ee3c1918",
   "metadata": {},
   "outputs": [
    {
     "name": "stdout",
     "output_type": "stream",
     "text": [
      "906609\n"
     ]
    }
   ],
   "source": [
    "import math\n",
    "\n",
    "def check_product(number):\n",
    "    is_product=False\n",
    "    for i in range(round(math.sqrt(number))+1,1,-1):\n",
    "        if number%i==0:\n",
    "            if len(str(i))==3 and len(str(int(number/i)))==3:\n",
    "                is_product = True\n",
    "                return is_product\n",
    "\n",
    "for i in range((1000000)-1,10000,-1):\n",
    "    number=str(i)\n",
    "    reverse_number = number[::-1]\n",
    "    \n",
    "    if number == reverse_number:\n",
    "        number=int(number)\n",
    "        if check_product(number) == True:\n",
    "            print(number)\n",
    "            break"
   ]
  }
 ],
 "metadata": {
  "kernelspec": {
   "display_name": "Python 3",
   "language": "python",
   "name": "python3"
  },
  "language_info": {
   "codemirror_mode": {
    "name": "ipython",
    "version": 3
   },
   "file_extension": ".py",
   "mimetype": "text/x-python",
   "name": "python",
   "nbconvert_exporter": "python",
   "pygments_lexer": "ipython3",
   "version": "3.9.4"
  }
 },
 "nbformat": 4,
 "nbformat_minor": 5
}
