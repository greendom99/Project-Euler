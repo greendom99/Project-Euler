{
 "cells": [
  {
   "cell_type": "markdown",
   "id": "912ba51b",
   "metadata": {},
   "source": [
    "The prime factors of 13195 are 5, 7, 13 and 29.\n",
    "\n",
    "What is the largest prime factor of the number 600851475143 ?"
   ]
  },
  {
   "cell_type": "code",
   "execution_count": 74,
   "id": "3d748205",
   "metadata": {},
   "outputs": [
    {
     "name": "stdout",
     "output_type": "stream",
     "text": [
      "[71, 839, 1471, 6857]\n",
      "6857\n"
     ]
    }
   ],
   "source": [
    "import math\n",
    "\n",
    "N = 600851475143\n",
    "\n",
    "def test_prime(number):\n",
    "    if number==1:\n",
    "        is_prime = False\n",
    "        return is_prime\n",
    "    for i in range(2,round(math.sqrt(number))+1):\n",
    "        if number%i==0:\n",
    "            is_prime = False\n",
    "            return is_prime\n",
    "    is_prime = True\n",
    "    return is_prime\n",
    "        \n",
    "prime_factors=[]\n",
    "for n in range(1,round(math.sqrt(N))+1):\n",
    "    if N%n==0:\n",
    "        if test_prime(n)==True:\n",
    "            prime_factors.append(n)\n",
    "        if test_prime(N/n)==True:\n",
    "            prime_factors.append(int(N/n))\n",
    "print(prime_factors)\n",
    "\n",
    "print(max(prime_factors))\n",
    "\n",
    "    "
   ]
  }
 ],
 "metadata": {
  "kernelspec": {
   "display_name": "Python 3",
   "language": "python",
   "name": "python3"
  },
  "language_info": {
   "codemirror_mode": {
    "name": "ipython",
    "version": 3
   },
   "file_extension": ".py",
   "mimetype": "text/x-python",
   "name": "python",
   "nbconvert_exporter": "python",
   "pygments_lexer": "ipython3",
   "version": "3.9.4"
  }
 },
 "nbformat": 4,
 "nbformat_minor": 5
}
